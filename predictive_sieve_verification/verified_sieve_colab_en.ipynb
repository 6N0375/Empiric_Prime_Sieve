{
 "cells": [
  {
   "cell_type": "markdown",
   "id": "dddb259d",
   "metadata": {},
   "source": [
    "# Prime Sieve Verification\n",
    "\n",
    "This notebook runs the frequency-based sieve and verifies its output against the official prime list from `sympy`."
   ]
  },
  {
   "cell_type": "code",
   "execution_count": null,
   "id": "758711c9",
   "metadata": {},
   "outputs": [],
   "source": [
    "from google.colab import files\n",
    "uploaded = files.upload()  # Upload frequency_sieve_full_en.py"
   ]
  },
  {
   "cell_type": "code",
   "execution_count": null,
   "id": "bf05f2dc",
   "metadata": {},
   "outputs": [],
   "source": [
    "from frequency_sieve_full_en import criba_frecuencias_excel_style_opt\n",
    "from sympy import primerange\n",
    "\n",
    "# Set limit for test\n",
    "limit = 10000\n",
    "\n",
    "# Get primes from the sieve\n",
    "my_primes = criba_frecuencias_excel_style_opt(limit)\n",
    "\n",
    "# Get official primes using sympy\n",
    "true_primes = list(primerange(1, limit + 1))\n",
    "\n",
    "# Compare\n",
    "if my_primes == true_primes:\n",
    "    print(f\"✅ Test passed: The sieve correctly identified all primes up to {limit}.\")\n",
    "else:\n",
    "    print(\"❌ Test failed. Differences found.\")\n",
    "    print(\"Missing primes:\", set(true_primes) - set(my_primes))\n",
    "    print(\"Unexpected values:\", set(my_primes) - set(true_primes))"
   ]
  }
 ],
 "metadata": {},
 "nbformat": 4,
 "nbformat_minor": 5
}