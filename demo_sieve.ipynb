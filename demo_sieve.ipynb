{
 "cells": [
  {
   "cell_type": "markdown",
   "id": "533c8cd4",
   "metadata": {},
   "source": [
    "# Frequency Sieve Demo\n",
    "\n",
    "This notebook demonstrates the use of the frequency-based sieve to generate and visualize prime candidates."
   ]
  },
  {
   "cell_type": "code",
   "execution_count": null,
   "id": "45845f1d",
   "metadata": {},
   "outputs": [],
   "source": [
    "from frequency_sieve_full import generate_primes\n",
    "\n",
    "# Example: Generate primes up to a certain limit\n",
    "primes = generate_primes(1000)\n",
    "print(primes)"
   ]
  }
 ],
 "metadata": {},
 "nbformat": 4,
 "nbformat_minor": 5
}