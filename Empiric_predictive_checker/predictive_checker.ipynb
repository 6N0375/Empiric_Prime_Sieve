{
 "cells": [
  {
   "cell_type": "markdown",
   "id": "a874e8df",
   "metadata": {},
   "source": [
    "# Predictive Primality Checker\n",
    "\n",
    "This notebook uses the frequency model to check whether a number is prime."
   ]
  },
  {
   "cell_type": "code",
   "execution_count": null,
   "id": "8c43a629",
   "metadata": {},
   "outputs": [],
   "source": [
    "from google.colab import files\n",
    "uploaded = files.upload()  # Upload predictive_primality_en.py"
   ]
  },
  {
   "cell_type": "code",
   "execution_count": null,
   "id": "109ced27",
   "metadata": {},
   "outputs": [],
   "source": [
    "from predictive_primality_en import es_primo_por_frecuencias_corr\n",
    "\n",
    "# Number to check\n",
    "number = 10009\n",
    "\n",
    "# Run test\n",
    "is_prime, reason = es_primo_por_frecuencias_corr(number)\n",
    "\n",
    "# Display result\n",
    "if is_prime:\n",
    "    print(f\"{number} is prime.\")\n",
    "else:\n",
    "    print(f\"{number} is composite due to {reason}.\")"
   ]
  }
 ],
 "metadata": {},
 "nbformat": 4,
 "nbformat_minor": 5
}