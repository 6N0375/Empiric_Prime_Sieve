{
  "cells": [
    {
      "cell_type": "markdown",
      "id": "d0046b09",
      "metadata": {
        "id": "d0046b09"
      },
      "source": [
        "# Prime Sieve Verification\n",
        "\n",
        "This notebook runs the empirical frequency-based sieve and verifies its output against the official prime list from `sympy`."
      ]
    },
    {
      "cell_type": "code",
      "execution_count": null,
      "id": "226c6f37",
      "metadata": {
        "id": "226c6f37",
        "executionInfo": {
          "status": "ok",
          "timestamp": 1744942627971,
          "user_tz": 360,
          "elapsed": 29453,
          "user": {
            "displayName": "Hector Cardenas Campos",
            "userId": "03092969975792865077"
          }
        },
        "outputId": "1282dd87-0536-4ef1-eec3-cc66b0e8443b",
        "colab": {
          "base_uri": "https://localhost:8080/",
          "height": 71
        }
      },
      "outputs": [],
      "source": [
        "from google.colab import files\n",
        "uploaded = files.upload()  # Upload frequency_sieve_full_en_FINAL.py"
      ]
    },
    {
      "cell_type": "code",
      "execution_count": null,
      "id": "d61eb59c",
      "metadata": {
        "id": "d61eb59c"
      },
      "outputs": [],
      "source": [
        "from empiric_frequency_sieve import empiric_frequency_sieve\n",
        "from sympy import primerange\n",
        "\n",
        "# Set limit for test\n",
        "limit = 10000\n",
        "\n",
        "# Get primes from the sieve\n",
        "my_primes = empiric_frequency_sieve(limit)\n",
        "\n",
        "# Get official primes using sympy\n",
        "true_primes = list(primerange(1, limit + 1))\n",
        "\n",
        "# Compare\n",
        "if my_primes == true_primes:\n",
        "    print(f\"\u2705 Test passed: The sieve correctly identified all primes up to {limit}.\")\n",
        "else:\n",
        "    print(\"\u274c Test failed. Differences found.\")\n",
        "    print(\"Missing primes:\", set(true_primes) - set(my_primes))\n",
        "    print(\"Unexpected values:\", set(my_primes) - set(true_primes))"
      ]
    }
  ],
  "metadata": {
    "language_info": {
      "name": "python"
    },
    "kernelspec": {
      "name": "python3",
      "display_name": "Python 3"
    }
  },
  "nbformat": 4,
  "nbformat_minor": 5
}