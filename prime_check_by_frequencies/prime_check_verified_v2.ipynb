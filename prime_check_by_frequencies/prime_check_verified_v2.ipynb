{
 "cells": [
  {
   "cell_type": "markdown",
   "id": "c67c92fe",
   "metadata": {},
   "source": [
    "# Optimized Prime Check with Reachability Control\n",
    "Evaluates large numbers with blockwise search, ensuring the model reaches the valid analysis zone."
   ]
  },
  {
   "cell_type": "code",
   "execution_count": null,
   "id": "2356c0d4",
   "metadata": {},
   "outputs": [],
   "source": [
    "import math\n",
    "\n",
    "def frecuencia_formula_1(a): return 2 * a + 3\n",
    "def frecuencia_formula_2(a): return (2 * a + 3) * 2 + (-1) ** a\n",
    "def frecuencia_formula_3(a): return (6 * a + 9 + (-1) ** a) // 2\n",
    "\n",
    "def b_mas(a): return 6 * a + 1\n",
    "def b_menos(a): return 6 * a - 1\n",
    "\n",
    "def min_a_required(X):\n",
    "    return math.ceil(math.isqrt(X) / 6)\n",
    "\n",
    "def is_prime_by_frequencies_blockwise_verified(X, step=100000, extra=1000000, verbose=True):\n",
    "    if X % 6 not in [1, 5]:\n",
    "        return \"outside_domain\"\n",
    "\n",
    "    a_start = min_a_required(X)\n",
    "    a_end = a_start + extra\n",
    "\n",
    "    if verbose:\n",
    "        print(f\"Target number: {X}\")\n",
    "        print(f\"Minimum a required (reachability): {a_start}\")\n",
    "        print(f\"Analysis range: a = {a_start} to {a_end}\")\n",
    "\n",
    "    reached = False\n",
    "\n",
    "    for block_start in range(a_start, a_end, step):\n",
    "        block_end = min(block_start + step, a_end)\n",
    "        for a in range(block_start, block_end):\n",
    "            for f in [frecuencia_formula_1, frecuencia_formula_2, frecuencia_formula_3]:\n",
    "                freq = f(a)\n",
    "                for base_func in [b_mas, b_menos]:\n",
    "                    b = base_func(a)\n",
    "                    if b < X < b ** 2:\n",
    "                        reached = True\n",
    "                        if (X - b) % freq == 0:\n",
    "                            if verbose:\n",
    "                                print(f\"Collision detected: a={a}, freq={freq}, base={b}\")\n",
    "                            return \"composite\"\n",
    "        if verbose:\n",
    "            print(f\"Checked block {block_start} to {block_end}...\")\n",
    "\n",
    "    if not reached:\n",
    "        return \"unknown\"\n",
    "    else:\n",
    "        return \"prime\"\n"
   ]
  },
  {
   "cell_type": "markdown",
   "id": "86432d8d",
   "metadata": {},
   "source": [
    "### Example usage:"
   ]
  },
  {
   "cell_type": "code",
   "execution_count": null,
   "id": "855a759c",
   "metadata": {},
   "outputs": [],
   "source": [
    "X = 2**89 - 1  # Try any number of form 6n ± 1"
   ]
  },
  {
   "cell_type": "code",
   "execution_count": null,
   "id": "f41ebc70",
   "metadata": {},
   "outputs": [],
   "source": [
    "is_prime_by_frequencies_blockwise_verified(X)"
   ]
  },
  {
   "cell_type": "markdown",
   "id": "fe0a2534",
   "metadata": {},
   "source": [
    "### Estimate required `extra` for full reachability"
   ]
  },
  {
   "cell_type": "code",
   "execution_count": null,
   "id": "3966c712",
   "metadata": {},
   "outputs": [],
   "source": [
    "def extra_needed(current_a_start, current_extra, X):\n",
    "    a_required = min_a_required(X)\n",
    "    a_coverage = current_a_start + current_extra\n",
    "    if a_coverage < a_required:\n",
    "        return a_required - current_a_start\n",
    "    return 0\n",
    "\n",
    "# Reuse X from above or redefine it\n",
    "current_extra = 1_000_000\n",
    "a_start = min_a_required(X)\n",
    "min_extra = extra_needed(a_start, current_extra, X)\n",
    "\n",
    "print(f\"Minimum a required: {a_start}\")\n",
    "print(f\"Your current extra: {current_extra}\")\n",
    "if min_extra > 0:\n",
    "    print(f\"⚠️ Insufficient range. To fully evaluate, increase `extra` to at least: {min_extra}\")\n",
    "else:\n",
    "    print(\"✅ Your `extra` value is sufficient for full evaluation.\")\n"
   ]
  }
 ],
 "metadata": {},
 "nbformat": 4,
 "nbformat_minor": 5
}
