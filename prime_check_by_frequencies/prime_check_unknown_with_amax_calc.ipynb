{
 "cells": [
  {
   "cell_type": "markdown",
   "id": "d6420525",
   "metadata": {},
   "source": [
    "# Prime Check using Frequency-Based Method (with 'unknown' fallback)"
   ]
  },
  {
   "cell_type": "code",
   "execution_count": null,
   "id": "17832931",
   "metadata": {},
   "outputs": [],
   "source": [
    "def frecuencia_formula_1(a): return 2 * a + 3\n",
    "def frecuencia_formula_2(a): return (2 * a + 3) * 2 + (-1) ** a\n",
    "def frecuencia_formula_3(a): return (6 * a + 9 + (-1) ** a) // 2\n",
    "\n",
    "def b_mas(a): return 6 * a + 1\n",
    "def b_menos(a): return 6 * a - 1\n",
    "\n",
    "def is_prime_by_frequencies(X, a_max=100000):\n",
    "    b_max = 0\n",
    "    for a in range(1, a_max):\n",
    "        for f in [frecuencia_formula_1, frecuencia_formula_2, frecuencia_formula_3]:\n",
    "            freq = f(a)\n",
    "            for base_func in [b_mas, b_menos]:\n",
    "                b = base_func(a)\n",
    "                b_max = max(b_max, b)\n",
    "                if b < X < b ** 2 and (X - b) % freq == 0:\n",
    "                    return \"composite\"\n",
    "    if b_max ** 2 > X:\n",
    "        return \"prime\"\n",
    "    else:\n",
    "        return \"unknown\"\n"
   ]
  },
  {
   "cell_type": "markdown",
   "id": "ade65b44",
   "metadata": {},
   "source": [
    "### Enter the number you wish to evaluate"
   ]
  },
  {
   "cell_type": "code",
   "execution_count": null,
   "id": "2276981d",
   "metadata": {},
   "outputs": [],
   "source": [
    "X = 2**1279 - 1  # You can modify this value"
   ]
  },
  {
   "cell_type": "code",
   "execution_count": null,
   "id": "917210db",
   "metadata": {},
   "outputs": [],
   "source": [
    "is_prime_by_frequencies(X)"
   ]
  },
  {
   "cell_type": "markdown",
   "id": "d307e538",
   "metadata": {},
   "source": [
    "### Estimate the minimum a required to evaluate the number"
   ]
  },
  {
   "cell_type": "code",
   "execution_count": null,
   "id": "80293799",
   "metadata": {},
   "outputs": [],
   "source": [
    "import math\n",
    "\n",
    "def min_a_required(X):\n",
    "    return math.ceil((X ** 0.5) / 6)\n",
    "\n",
    "min_a_required(X)\n"
   ]
  }
 ],
 "metadata": {},
 "nbformat": 4,
 "nbformat_minor": 5
}
