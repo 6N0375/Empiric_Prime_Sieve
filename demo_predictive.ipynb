{
 "cells": [
  {
   "cell_type": "markdown",
   "id": "37f420c9",
   "metadata": {},
   "source": [
    "# Predictive Primality Check\n",
    "\n",
    "This notebook demonstrates how to test if a number is prime using the predictive frequency method."
   ]
  },
  {
   "cell_type": "code",
   "execution_count": null,
   "id": "b35f8b59",
   "metadata": {},
   "outputs": [],
   "source": [
    "from predictive_primality import is_probably_prime\n",
    "\n",
    "# Example: Test a number\n",
    "n = 10009\n",
    "result = is_probably_prime(n)\n",
    "print(f\"{n} is prime:\", result)"
   ]
  }
 ],
 "metadata": {},
 "nbformat": 4,
 "nbformat_minor": 5
}